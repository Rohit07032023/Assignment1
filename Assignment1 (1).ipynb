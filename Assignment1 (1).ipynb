{
 "cells": [
  {
   "cell_type": "code",
   "execution_count": null,
   "id": "9588b638-d392-4585-bb39-f3e9d2f7343b",
   "metadata": {},
   "outputs": [],
   "source": [
    "#Explain with an example each when to use a for loop and a while loop"
   ]
  },
  {
   "cell_type": "code",
   "execution_count": null,
   "id": "92f48dbf-2e84-4364-84aa-40ad04fb1d6f",
   "metadata": {},
   "outputs": [],
   "source": [
    "# For loop is used to iterate over a sequence of items.The loop will execute a block of statements for each item in the sequence.\""
   ]
  },
  {
   "cell_type": "code",
   "execution_count": 7,
   "id": "d470c171-8624-4d08-80ed-c2a82a0d1d0a",
   "metadata": {},
   "outputs": [
    {
     "name": "stdout",
     "output_type": "stream",
     "text": [
      "0\n",
      "1\n",
      "2\n",
      "3\n",
      "4\n",
      "5\n",
      "6\n",
      "7\n",
      "8\n",
      "9\n",
      "10\n"
     ]
    }
   ],
   "source": [
    "for i in range(11):\n",
    "    print(i)\n",
    "    "
   ]
  },
  {
   "cell_type": "code",
   "execution_count": null,
   "id": "936913fb-1d7a-4c65-983b-5a9da9779d88",
   "metadata": {},
   "outputs": [],
   "source": [
    "#A while loop is used to repeatedly execute a block of statements while a condition is true.\n",
    "#The loop will continue to run as long as the condition remains true.\""
   ]
  },
  {
   "cell_type": "code",
   "execution_count": 6,
   "id": "7ca48031-863b-4e49-9e39-c74e2525cad0",
   "metadata": {},
   "outputs": [
    {
     "name": "stdout",
     "output_type": "stream",
     "text": [
      "0\n",
      "1\n",
      "2\n",
      "3\n",
      "4\n",
      "5\n",
      "6\n",
      "7\n",
      "8\n",
      "9\n",
      "10\n"
     ]
    }
   ],
   "source": [
    "i = 0\n",
    "while i<=10:\n",
    "    print(i)\n",
    "    i= i+1\n",
    "    "
   ]
  },
  {
   "cell_type": "code",
   "execution_count": 8,
   "id": "3da32d12-9a34-468c-b317-fece058c0e57",
   "metadata": {},
   "outputs": [],
   "source": [
    "# Write a python program to print the sum and product of the first 10 natural numbers using for and while loop"
   ]
  },
  {
   "cell_type": "code",
   "execution_count": 10,
   "id": "18ac41b2-5d5b-484a-a970-32382b08c5a8",
   "metadata": {},
   "outputs": [
    {
     "name": "stdout",
     "output_type": "stream",
     "text": [
      "Sum of first 10 Natural numbers is =  55\n",
      "Product of first 10 Natural numbers is =  3628800\n"
     ]
    }
   ],
   "source": [
    "Total_sum = 0\n",
    "Product = 1\n",
    "\n",
    "for i in range(1,11):\n",
    "    Total_sum = Total_sum + i\n",
    "    Product = Product * i\n",
    "    \n",
    "print(\"Sum of first 10 Natural numbers is = \", Total_sum)\n",
    "print(\"Product of first 10 Natural numbers is = \", Product)\n",
    "\n",
    "    "
   ]
  },
  {
   "cell_type": "code",
   "execution_count": 14,
   "id": "6e1a011f-bd78-418e-a34a-db07fc2f3e0b",
   "metadata": {},
   "outputs": [
    {
     "name": "stdout",
     "output_type": "stream",
     "text": [
      "Sum of first 10 Natural numbers is =  55\n",
      "Product of first 10 Natural mumber is =  3628800\n"
     ]
    }
   ],
   "source": [
    "Total_sum = 0\n",
    "Product = 1\n",
    "i = 1\n",
    "\n",
    "while i <= 10:\n",
    "    Total_sum = Total_sum + i\n",
    "    Product = Product *i\n",
    "    i = i+1\n",
    "    \n",
    "print(\"Sum of first 10 Natural numbers is = \", Total_sum)\n",
    "print(\"Product of first 10 Natural mumber is = \", Product)"
   ]
  },
  {
   "cell_type": "code",
   "execution_count": 16,
   "id": "18118cf9-60e1-4d1d-a15c-5b90d204ba8c",
   "metadata": {},
   "outputs": [],
   "source": [
    "###Create a python program to compute the electricity bill for a household.\n"
   ]
  },
  {
   "cell_type": "code",
   "execution_count": 23,
   "id": "bac20e51-c9e7-4b7b-8623-4c713251c98f",
   "metadata": {},
   "outputs": [
    {
     "name": "stdin",
     "output_type": "stream",
     "text": [
      "Enter the units of electricity is consumed  450\n"
     ]
    },
    {
     "name": "stdout",
     "output_type": "stream",
     "text": [
      " Electricity bill is = Rs  5050.0\n"
     ]
    }
   ],
   "source": [
    "units = int(input( \"Enter the units of electricity is consumed \"))\n",
    "\n",
    "bill = 1\n",
    "\n",
    "if units <= 100:\n",
    "    bill = units * 4.5\n",
    "elif units <= 200:\n",
    "    bill = 100 * 4.5 + (units - 100) * 6\n",
    "elif units <= 300:\n",
    "    bill = 100 * 4.5 + 100 * 6 + (units - 200) * 10\n",
    "else:\n",
    "    bill = 100 * 4.5 + 100 * 6 + 100 * 10 + (units - 300) * 20\n",
    "\n",
    "print( \" Electricity bill is = Rs \", bill)\n",
    "        "
   ]
  },
  {
   "cell_type": "code",
   "execution_count": 24,
   "id": "b2fa7a21-04a2-430a-ad26-f30c76bffc64",
   "metadata": {},
   "outputs": [],
   "source": [
    "#Create a list of numbers from 1 to 100. Use for loop and while loop to calculate the cube of each number and if the cube of that number is divisible by 4 or 5 then append that number in a list and print that list"
   ]
  },
  {
   "cell_type": "code",
   "execution_count": 44,
   "id": "ae45df1c-d65f-4bea-9922-b7412f4c24c3",
   "metadata": {},
   "outputs": [
    {
     "name": "stdout",
     "output_type": "stream",
     "text": [
      "[8, 64, 125, 216, 512, 1000, 1728, 2744, 3375, 4096, 5832, 8000, 10648, 13824, 15625, 17576, 21952, 27000, 32768, 39304, 42875, 46656, 54872, 64000, 74088, 85184, 91125, 97336, 110592, 125000, 140608, 157464, 166375, 175616, 195112, 216000, 238328, 262144, 274625, 287496, 314432, 343000, 373248, 405224, 421875, 438976, 474552, 512000, 551368, 592704, 614125, 636056, 681472, 729000, 778688, 830584, 857375, 884736, 941192, 1000000]\n"
     ]
    }
   ],
   "source": [
    "l1 = []\n",
    "for i in list(range(1,101)):\n",
    "    if (i**3)%4 == 0 or (i**3)%5 == 0:\n",
    "        l1.append(i**3)\n",
    "        \n",
    "print(l1)\n",
    "\n",
    "        \n",
    "\n",
    "        \n",
    "    \n",
    "    "
   ]
  },
  {
   "cell_type": "code",
   "execution_count": 52,
   "id": "de38fb51-dabd-4e1b-98c5-f7ba53850a8d",
   "metadata": {},
   "outputs": [
    {
     "name": "stdout",
     "output_type": "stream",
     "text": [
      "[8, 64, 125, 216, 512, 1000, 1728, 2744, 3375, 4096, 5832, 8000, 10648, 13824, 15625, 17576, 21952, 27000, 32768, 39304, 42875, 46656, 54872, 64000, 74088, 85184, 91125, 97336, 110592, 125000, 140608, 157464, 166375, 175616, 195112, 216000, 238328, 262144, 274625, 287496, 314432, 343000, 373248, 405224, 421875, 438976, 474552, 512000, 551368, 592704, 614125, 636056, 681472, 729000, 778688, 830584, 857375, 884736, 941192, 1000000]\n"
     ]
    }
   ],
   "source": [
    "\n",
    "l1 = list(range(1,101))\n",
    "l2 = []\n",
    "i = 1\n",
    "while i < 101:\n",
    "    if i**3 % 4 == 0 or i% 5 == 0:\n",
    "        l2.append(i**3)\n",
    "    i= i+1\n",
    "\n",
    "print(l2)"
   ]
  },
  {
   "cell_type": "code",
   "execution_count": 53,
   "id": "fd7d1a94-f57d-4d8a-ab32-18db4d951f56",
   "metadata": {},
   "outputs": [],
   "source": [
    "#Write a program to filter count vowels in the below-given string.string = \"I want to become a data scientist\""
   ]
  },
  {
   "cell_type": "code",
   "execution_count": 18,
   "id": "d5489d90-f4b1-4578-babe-9db489730f23",
   "metadata": {},
   "outputs": [
    {
     "name": "stdout",
     "output_type": "stream",
     "text": [
      "['I', 'a', 'o', 'e', 'o', 'e', 'a', 'a', 'a', 'i', 'e', 'i']\n",
      "The number of vowels in the string is 12\n"
     ]
    }
   ],
   "source": [
    "string = \"I want to become a data scientist\"\n",
    "l = []\n",
    "count = 0\n",
    "\n",
    "for i in string:\n",
    "    if  i == \"a\" or i == \"i\" or i == \"e\" or i == \"o\" or i == \"u\" or i == \"A\" or i == \"I\" or i == \"E\" or i == \"O\" or i == \"U\":\n",
    "        count = count +1\n",
    "        l.append(i)\n",
    " #\n",
    "print(l)\n",
    "print(\"The count of vowels in the string is\", count)\n",
    "        "
   ]
  },
  {
   "cell_type": "code",
   "execution_count": null,
   "id": "db7f51f6-c14e-488f-a375-31a356a9b3b7",
   "metadata": {},
   "outputs": [],
   "source": []
  }
 ],
 "metadata": {
  "kernelspec": {
   "display_name": "Python 3 (ipykernel)",
   "language": "python",
   "name": "python3"
  },
  "language_info": {
   "codemirror_mode": {
    "name": "ipython",
    "version": 3
   },
   "file_extension": ".py",
   "mimetype": "text/x-python",
   "name": "python",
   "nbconvert_exporter": "python",
   "pygments_lexer": "ipython3",
   "version": "3.10.8"
  }
 },
 "nbformat": 4,
 "nbformat_minor": 5
}

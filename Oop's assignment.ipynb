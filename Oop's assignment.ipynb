{
 "cells": [
  {
   "cell_type": "code",
   "execution_count": 1,
   "id": "1bb8d07a-640b-4be8-b400-8d76fd8f467e",
   "metadata": {},
   "outputs": [],
   "source": [
    "# Explain Class and Object with respect to Object-Oriented Programming. Give a suitable example."
   ]
  },
  {
   "cell_type": "code",
   "execution_count": 12,
   "id": "d1611df9-8839-497e-ba1a-43fcbfd5dc13",
   "metadata": {},
   "outputs": [
    {
     "name": "stdout",
     "output_type": "stream",
     "text": [
      "('Ram', 'ram@gamil.com', 78)\n",
      "('Krishna', 'krishna@gmail,com', 80)\n"
     ]
    }
   ],
   "source": [
    "#Class act as a blueprint/model/plan. class represents properties(attributes) and actions(Behaviours) of an object\n",
    "#Physical existance of class is called object.\n",
    "#eg.\n",
    "\n",
    "class student:\n",
    "    \n",
    "    def __init__(self,student_name, student_Id, marks):\n",
    "        self.student_name = student_name\n",
    "        self.student_Id = student_Id\n",
    "        self.marks = marks\n",
    "        \n",
    "    def display(self):\n",
    "        return self.student_name, self.student_Id, self.marks\n",
    "    \n",
    "#Object creation\n",
    "\n",
    "s1 = student('Ram', 'ram@gamil.com', 78)\n",
    "s2 = student('Krishna','krishna@gmail,com',80)\n",
    "\n",
    "\n",
    "#calling method\n",
    "\n",
    "print(s1.display())\n",
    "print(s2.display())\n",
    "\n",
    "        "
   ]
  },
  {
   "cell_type": "code",
   "execution_count": 13,
   "id": "e1e3264c-6db5-4920-8e66-1c15661a0be2",
   "metadata": {},
   "outputs": [],
   "source": [
    "#Name the four pillars of OOPs.\n",
    "\n",
    "#Ans: 1.Encapsulation 2.Abstraction 3. Inheritance 4.polymorphism"
   ]
  },
  {
   "cell_type": "code",
   "execution_count": 14,
   "id": "e100a40f-ab07-47a4-9c8d-06d46d99a852",
   "metadata": {},
   "outputs": [
    {
     "data": {
      "text/plain": [
       "10"
      ]
     },
     "execution_count": 14,
     "metadata": {},
     "output_type": "execute_result"
    }
   ],
   "source": [
    "#Explain why the __init__() function is used. Give a suitable example.\n",
    "\n",
    "#Ans: __init__ method is custructor method used to declare and initialize the instance variable of an object.\n",
    "\n",
    "class test:\n",
    "    def __init__(self):\n",
    "        self.a = 10\n",
    "        \n",
    "t1 = test()\n",
    "\n",
    "t1.a\n"
   ]
  },
  {
   "cell_type": "code",
   "execution_count": 15,
   "id": "c51a4cdc-9b3a-4af0-b604-0e73fbdf83b7",
   "metadata": {},
   "outputs": [],
   "source": [
    "#Why self is used in OOPs?\n",
    "\n",
    "#Ans: Self is reference variable to currect object by using self we can access instance variable and instance method of current object.self is not a fixed keyword, we can use any word in place of self"
   ]
  },
  {
   "cell_type": "code",
   "execution_count": 21,
   "id": "82b1da85-5112-4bb6-9085-f443ecbc67d5",
   "metadata": {},
   "outputs": [
    {
     "name": "stdout",
     "output_type": "stream",
     "text": [
      "parent method\n",
      "child method\n"
     ]
    }
   ],
   "source": [
    "#What is inheritance? Give an example for each type of inheritance.\n",
    "\n",
    "#Ans: Inheritance is the capability of one class to derive or inherit the properties from another class.\n",
    "# There are 5 types of inheritance in python\n",
    "#1.Single\n",
    "#The cocept of inheriting members of one parent class to single child class\n",
    "#eg.\n",
    "\n",
    "class p:\n",
    "    def m1(self):\n",
    "        print(\"parent method\")\n",
    "\n",
    "class C(p):\n",
    "    def m2(self):\n",
    "        print(\"child method\")\n",
    "        \n",
    "        \n",
    "t1 = C()\n",
    "\n",
    "t1.m1()\n",
    "t1.m2()\n"
   ]
  },
  {
   "cell_type": "code",
   "execution_count": 25,
   "id": "8121e184-2af2-46ba-946b-ccf3384123a9",
   "metadata": {},
   "outputs": [
    {
     "name": "stdout",
     "output_type": "stream",
     "text": [
      "Land\n",
      "Money\n",
      "Enjoy\n"
     ]
    }
   ],
   "source": [
    "#2.Multilevel\n",
    "\n",
    "class grandfather:\n",
    "    def m1(self):\n",
    "        print(\"Land\")\n",
    "class father(grandfather):\n",
    "    def m2(self):\n",
    "        print(\"Money\")\n",
    "class child(father):\n",
    "    def m3(self):\n",
    "        print(\"Enjoy\")\n",
    "        \n",
    "t1 = child()\n",
    "t1.m1()\n",
    "t1.m2()\n",
    "t1.m3()\n",
    "       \n",
    "\n"
   ]
  },
  {
   "cell_type": "code",
   "execution_count": 27,
   "id": "d66761f8-f899-4fa8-9601-acc1137f05ab",
   "metadata": {},
   "outputs": [
    {
     "name": "stdout",
     "output_type": "stream",
     "text": [
      "parent\n",
      "child 1\n",
      "parent\n",
      "child 3\n"
     ]
    }
   ],
   "source": [
    "#3.Hierarchical\n",
    "\n",
    "class parent:\n",
    "    def m1(self):\n",
    "        print(\"parent\")\n",
    "        \n",
    "class child1(parent):\n",
    "    def m2(self):\n",
    "        print(\"child 1\")\n",
    "        \n",
    "class child2(parent):\n",
    "    def m3(self):\n",
    "        print(\"child 3\")\n",
    "\n",
    "\n",
    "\n",
    "t1 = child1()\n",
    "t2 = child2()\n",
    "\n",
    "t1.m1()\n",
    "t1.m2()\n",
    "\n",
    "t2.m1()\n",
    "t2.m3()\n",
    "\n"
   ]
  },
  {
   "cell_type": "code",
   "execution_count": 28,
   "id": "c51d8a45-7877-4807-b2c6-bddd1ab86fbb",
   "metadata": {},
   "outputs": [
    {
     "name": "stdout",
     "output_type": "stream",
     "text": [
      "parent 1\n",
      "parent 2\n",
      "child\n"
     ]
    }
   ],
   "source": [
    "#4.Multiple\n",
    "\n",
    "Multiple parents but single child\n",
    "\n",
    "class parent1:\n",
    "    def m1(self):\n",
    "        print('parent 1')\n",
    "\n",
    "class parent2:\n",
    "    def m2(self):\n",
    "        print(\"parent 2\")\n",
    "\n",
    "\n",
    "class child(parent1, parent2):\n",
    "    def m3(self):\n",
    "        print(\"child\")\n",
    "        \n",
    "\n",
    "t1 = child()\n",
    "\n",
    "t1.m1()\n",
    "t1.m2()\n",
    "t1.m3()\n",
    "\n"
   ]
  },
  {
   "cell_type": "code",
   "execution_count": 29,
   "id": "57bfc7f8-8890-4608-9e75-7132d8d26445",
   "metadata": {},
   "outputs": [
    {
     "name": "stdout",
     "output_type": "stream",
     "text": [
      "Animal speaks\n",
      "Mammal gives birth\n",
      "Bird lays eggs\n"
     ]
    }
   ],
   "source": [
    "#5.Hybrid\n",
    " \n",
    "#It's a combination of 2 or more inheritance.\n",
    "\n",
    "class Animal:\n",
    "    def speak(self):\n",
    "        print(\"Animal speaks\")\n",
    "\n",
    "\n",
    "class Mammal(Animal):\n",
    "    def give_birth(self):\n",
    "        print(\"Mammal gives birth\")\n",
    "\n",
    "\n",
    "class Bird(Animal):\n",
    "    def lay_eggs(self):\n",
    "        print(\"Bird lays eggs\")\n",
    "\n",
    "\n",
    "class Platypus(Mammal, Bird):\n",
    "    pass\n",
    "\n",
    "\n",
    "platypus = Platypus()\n",
    "platypus.speak()        # Method from Animal class\n",
    "platypus.give_birth()   # Method from Mammal class\n",
    "platypus.lay_eggs()    # Method from Bird class\n"
   ]
  },
  {
   "cell_type": "code",
   "execution_count": null,
   "id": "a9049a5e-b329-4cff-89f5-b3f56180844d",
   "metadata": {},
   "outputs": [],
   "source": []
  }
 ],
 "metadata": {
  "kernelspec": {
   "display_name": "Python 3 (ipykernel)",
   "language": "python",
   "name": "python3"
  },
  "language_info": {
   "codemirror_mode": {
    "name": "ipython",
    "version": 3
   },
   "file_extension": ".py",
   "mimetype": "text/x-python",
   "name": "python",
   "nbconvert_exporter": "python",
   "pygments_lexer": "ipython3",
   "version": "3.10.8"
  }
 },
 "nbformat": 4,
 "nbformat_minor": 5
}

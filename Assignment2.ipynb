{
 "cells": [
  {
   "cell_type": "code",
   "execution_count": 1,
   "id": "a4b76491-83a0-4d1c-a2c3-5f34ce455dac",
   "metadata": {},
   "outputs": [],
   "source": [
    "#Which keyword is used to create a function? Create a function to return a list of odd numbers in therange of 1 to 25."
   ]
  },
  {
   "cell_type": "code",
   "execution_count": 24,
   "id": "6f96bb28-ff0d-48c9-9296-9e25ad70c0df",
   "metadata": {},
   "outputs": [],
   "source": [
    "#def keyword is used to create function\n",
    "l = list(range(1,25))\n",
    "l1 = []\n",
    "def odd_number(l):\n",
    "    for i in l:\n",
    "        if i%2 != 0:\n",
    "            l1.append(i)\n",
    "    return l1\n",
    "          "
   ]
  },
  {
   "cell_type": "code",
   "execution_count": 25,
   "id": "382d49f3-0ca7-4327-98da-7cfa9981c7d7",
   "metadata": {},
   "outputs": [
    {
     "data": {
      "text/plain": [
       "[1, 3, 5, 7, 9, 11, 13, 15, 17, 19, 21, 23]"
      ]
     },
     "execution_count": 25,
     "metadata": {},
     "output_type": "execute_result"
    }
   ],
   "source": [
    "odd_number(l)"
   ]
  },
  {
   "cell_type": "code",
   "execution_count": 26,
   "id": "63e5a926-fdbe-4777-b08f-9fbbae022d38",
   "metadata": {},
   "outputs": [],
   "source": [
    "#Why *args and **kwargs is used in some functions? Create a function each for *args and **kwargsto demonstrate their use."
   ]
  },
  {
   "cell_type": "code",
   "execution_count": 42,
   "id": "1f7f9c28-c179-4dfd-b012-37159243eb1c",
   "metadata": {},
   "outputs": [],
   "source": [
    "#write a program to print sum of arguments\n",
    "\n",
    "def total_sum(*args):\n",
    "    result = 0\n",
    "    for i in args:\n",
    "        result = result + i\n",
    "    return result\n"
   ]
  },
  {
   "cell_type": "code",
   "execution_count": 43,
   "id": "5c4888db-3ff4-4f57-8f40-3b6ed5d239c8",
   "metadata": {},
   "outputs": [
    {
     "data": {
      "text/plain": [
       "218"
      ]
     },
     "execution_count": 43,
     "metadata": {},
     "output_type": "execute_result"
    }
   ],
   "source": [
    "total_sum(2,3,40,78,5,90)"
   ]
  },
  {
   "cell_type": "code",
   "execution_count": 11,
   "id": "76ad772f-1c93-4fa5-92a9-578ef216fd0a",
   "metadata": {},
   "outputs": [],
   "source": [
    "def display(**kwargs):\n",
    "    return kwargs"
   ]
  },
  {
   "cell_type": "code",
   "execution_count": 12,
   "id": "bac347fa-b485-47e0-ae94-27610a0c1d56",
   "metadata": {},
   "outputs": [
    {
     "data": {
      "text/plain": [
       "{'name': 'Ram', 'marks': 89, 'age': 20, 'subject': 'Maths'}"
      ]
     },
     "execution_count": 12,
     "metadata": {},
     "output_type": "execute_result"
    }
   ],
   "source": [
    "display(name = \"Ram\", marks = 89, age = 20, subject = \"Maths\")"
   ]
  },
  {
   "cell_type": "code",
   "execution_count": 1,
   "id": "5e5dbf40-048e-4122-bcbc-22ef3a4a1e5a",
   "metadata": {},
   "outputs": [],
   "source": [
    "#What is an iterator in python? Name the method used to initialise the iterator object and the method used for iteration. Use these methods to print the first five elements of the given list [2, 4, 6, 8, 10, 12, 14, 16, 18, 20]."
   ]
  },
  {
   "cell_type": "code",
   "execution_count": 2,
   "id": "678ece76-d291-4c94-b3aa-7e18a870c765",
   "metadata": {},
   "outputs": [],
   "source": [
    "#An iterator in Python is an object that is used to iterate over iterable objects like lists, tuples, dicts, and sets\n",
    "#iter() method is used for initialisation of iterator object and next() method is used for iteration."
   ]
  },
  {
   "cell_type": "code",
   "execution_count": 16,
   "id": "1f831c40-d019-49be-8b62-84666592c608",
   "metadata": {},
   "outputs": [
    {
     "name": "stdout",
     "output_type": "stream",
     "text": [
      "2\n",
      "4\n",
      "6\n",
      "8\n",
      "10\n"
     ]
    }
   ],
   "source": [
    "l = [2,4,6,8,10,12,14,16,18,20]\n",
    "\n",
    "l2 = iter(l)\n",
    "\n",
    "for i in range(5):\n",
    "    print(next(l2))\n",
    "    \n"
   ]
  },
  {
   "cell_type": "code",
   "execution_count": 18,
   "id": "4f5d49f5-dc43-4cf7-96b1-72e59bd0454d",
   "metadata": {},
   "outputs": [],
   "source": [
    "#What is a generator function in python? Why yield keyword is used? Give an example of a generator function."
   ]
  },
  {
   "cell_type": "code",
   "execution_count": null,
   "id": "74318bf3-b9f8-406a-b96a-5775eadd92b4",
   "metadata": {},
   "outputs": [],
   "source": [
    "#A generator function is defined like a normal function, but whenever it needs to generate a value, it does with the yield keyword rather than return.\n",
    "# yield keyword id used to generator value one by one rather giving at once."
   ]
  },
  {
   "cell_type": "code",
   "execution_count": 26,
   "id": "0d33def2-8bb4-44a0-9965-e4ac9c6f20ea",
   "metadata": {},
   "outputs": [
    {
     "name": "stdout",
     "output_type": "stream",
     "text": [
      "0\n",
      "1\n",
      "1\n",
      "2\n",
      "3\n",
      "5\n",
      "8\n",
      "13\n",
      "21\n",
      "34\n"
     ]
    }
   ],
   "source": [
    "def fib(n):\n",
    "    a,b = 0,1\n",
    "    for i in range(n):\n",
    "        yield a\n",
    "        a, b = b, a+b\n",
    "\n",
    "for i in fib(10):\n",
    "    print(i)"
   ]
  },
  {
   "cell_type": "code",
   "execution_count": 1,
   "id": "a0be40de-39b8-4d7a-a7e7-8d1c2fa2fdcf",
   "metadata": {},
   "outputs": [],
   "source": [
    "#Create a generator function for prime numbers less than 1000. Use the next() method to print the first 20 prime numbers."
   ]
  },
  {
   "cell_type": "code",
   "execution_count": 21,
   "id": "12889faa-cb49-4074-9e5f-7cdee64bdf70",
   "metadata": {},
   "outputs": [
    {
     "name": "stdout",
     "output_type": "stream",
     "text": [
      "2\n",
      "3\n",
      "5\n",
      "7\n",
      "11\n",
      "13\n",
      "17\n",
      "19\n",
      "23\n",
      "29\n",
      "31\n",
      "37\n",
      "41\n",
      "43\n",
      "47\n",
      "53\n",
      "59\n",
      "61\n",
      "67\n",
      "71\n"
     ]
    }
   ],
   "source": [
    "def prime_number():\n",
    "    prime_list = [2]\n",
    "    yield 2\n",
    "    for i in range(3,1000):\n",
    "        is_prime =  True\n",
    "        for prime in prime_list:\n",
    "            if i%prime == 0:\n",
    "                is_prime = False\n",
    "                break\n",
    "        if is_prime:\n",
    "            prime_list.append(i)\n",
    "            yield i\n",
    "            \n",
    "prime_gen = prime_number()\n",
    "\n",
    "for i in range(20):\n",
    "    print(next(prime_gen))\n",
    "    \n",
    "            "
   ]
  },
  {
   "cell_type": "code",
   "execution_count": 1,
   "id": "9ae6d992-df04-48b4-bc0a-63b73f7a6bbb",
   "metadata": {},
   "outputs": [],
   "source": [
    "#Write a python program to print the first 10 Fibonacci numbers using a while loop."
   ]
  },
  {
   "cell_type": "code",
   "execution_count": 6,
   "id": "26883075-a022-43c4-807a-39c468d1258e",
   "metadata": {},
   "outputs": [
    {
     "name": "stdout",
     "output_type": "stream",
     "text": [
      "0\n",
      "1\n",
      "1\n",
      "2\n",
      "3\n",
      "5\n",
      "8\n",
      "13\n",
      "21\n",
      "34\n"
     ]
    }
   ],
   "source": [
    "def fib_number():\n",
    "    a,b = 0,1\n",
    "    while True:\n",
    "        yield a\n",
    "        a,b = b, a+b\n",
    "    \n",
    "\n",
    "fib = fib_number()\n",
    "for i in range(10):\n",
    "    print(next(fib))\n",
    "    "
   ]
  },
  {
   "cell_type": "code",
   "execution_count": 7,
   "id": "de70f6ef-79f4-468e-892b-c81b9832ace1",
   "metadata": {},
   "outputs": [],
   "source": [
    "#Write a List Comprehension to iterate through the given string: ‘pwskills’.Expected output: ['p', 'w', 's', 'k', 'i', 'l', 'l', 's'] "
   ]
  },
  {
   "cell_type": "code",
   "execution_count": 25,
   "id": "73998184-da04-4a9a-9aaf-30eff31cba23",
   "metadata": {},
   "outputs": [
    {
     "data": {
      "text/plain": [
       "['p', 'w', 's', 'k', 'i', 'l', 'l', 's']"
      ]
     },
     "execution_count": 25,
     "metadata": {},
     "output_type": "execute_result"
    }
   ],
   "source": [
    "s = 'pwskills'\n",
    "\n",
    "[i for i in s]\n"
   ]
  },
  {
   "cell_type": "code",
   "execution_count": 26,
   "id": "8de29926-4299-4c89-a6e9-7f41f7b18a8c",
   "metadata": {},
   "outputs": [],
   "source": [
    " #Write a python program to check whether a given number is Palindrome or not using a while loop."
   ]
  },
  {
   "cell_type": "code",
   "execution_count": 19,
   "id": "f4dd2688-2c3b-4fb9-908a-f84e7155ae25",
   "metadata": {},
   "outputs": [
    {
     "name": "stdin",
     "output_type": "stream",
     "text": [
      "Enter the number 121\n"
     ]
    },
    {
     "name": "stdout",
     "output_type": "stream",
     "text": [
      "Number is pallindrome!\n"
     ]
    }
   ],
   "source": [
    "n = int(input(\"Enter the number\"))\n",
    "temp = n\n",
    "rev = 0\n",
    "\n",
    "while n>0:\n",
    "    digit = n%10\n",
    "    rev  = rev*10 + digit\n",
    "    n = n//10\n",
    "if temp == rev:\n",
    "    print(\"Number is pallindrome!\")\n",
    "else:\n",
    "    print(\"Not a pallindrome!\")\n",
    "    "
   ]
  },
  {
   "cell_type": "code",
   "execution_count": 1,
   "id": "96844003-2ea1-4f2d-9fb2-de8ca690297e",
   "metadata": {},
   "outputs": [],
   "source": [
    "#Write a code to print odd numbers from 1 to 100 using list comprehension."
   ]
  },
  {
   "cell_type": "code",
   "execution_count": 2,
   "id": "b5adb76d-609b-4b99-bb90-4b6a942fb2fa",
   "metadata": {},
   "outputs": [
    {
     "name": "stdout",
     "output_type": "stream",
     "text": [
      "[1, 3, 5, 7, 9, 11, 13, 15, 17, 19, 21, 23, 25, 27, 29, 31, 33, 35, 37, 39, 41, 43, 45, 47, 49, 51, 53, 55, 57, 59, 61, 63, 65, 67, 69, 71, 73, 75, 77, 79, 81, 83, 85, 87, 89, 91, 93, 95, 97, 99]\n"
     ]
    }
   ],
   "source": [
    "l = [i for i in range(1,100)]\n",
    "l2 =[j for j in l if j%2 != 0]\n",
    "\n",
    "print(l2)\n"
   ]
  },
  {
   "cell_type": "code",
   "execution_count": null,
   "id": "449618e8-d157-4815-95aa-964687d3dad3",
   "metadata": {},
   "outputs": [],
   "source": []
  }
 ],
 "metadata": {
  "kernelspec": {
   "display_name": "Python 3 (ipykernel)",
   "language": "python",
   "name": "python3"
  },
  "language_info": {
   "codemirror_mode": {
    "name": "ipython",
    "version": 3
   },
   "file_extension": ".py",
   "mimetype": "text/x-python",
   "name": "python",
   "nbconvert_exporter": "python",
   "pygments_lexer": "ipython3",
   "version": "3.10.8"
  }
 },
 "nbformat": 4,
 "nbformat_minor": 5
}
